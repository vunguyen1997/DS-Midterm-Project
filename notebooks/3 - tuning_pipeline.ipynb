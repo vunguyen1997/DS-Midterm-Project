{
 "cells": [
  {
   "cell_type": "markdown",
   "metadata": {},
   "source": [
    "## Hyperparam Tuning\n",
    "\n",
    "Now that we know which models are performing better, it's time to perform cross validation and tune hyperparameters.\n",
    "- Do a google search for hyperparameter ranges for each type of model.\n",
    "\n",
    "GridSearch/RandomSearch are a great methods for checking off both of these tasks.\n",
    "\n",
    "There is a fairly significant issue with this approach for this particular problem (described below). But in the interest of creating a basic functional pipeline, you can just use the default Sklearn methods for now.\n",
    "\n",
    "## Preventing Data Leakage in Tuning - STRETCH\n",
    "\n",
    "> **This step doesn't need to be part of your Minimum Viable Product (MVP), but its highly recommended you complete it, if you have time!**\n",
    "\n",
    "BUT we have a problem - if we calculated a numerical value to encode city (such as the mean of sale prices in that city) on the training data, we can't cross validate \n",
    "- The rows in each validation fold were part of the original calculation of the mean for that city - that means we're leaking information!\n",
    "- While sklearn's built in functions are extremely useful, sometimes it is necessary to do things ourselves\n",
    "\n",
    "You need to create two functions to replicate what Gridsearch does under the hood. This is a challenging, real world data problem! To help you out, we've created some psuedocode and docstrings to get you started. \n",
    "\n",
    "**`custom_cross_validation()`**\n",
    "- Should take the training data, and divide it into multiple train/validation splits. \n",
    "- Look into `sklearn.model_selection.KFold` to accomplish this - the [documentation](https://scikit-learn.org/stable/modules/generated/sklearn.model_selection.KFold.html) shows how to split a dataframe and loop through the indexes of your split data. \n",
    "- Within your function, you should compute the city means on the training folds just like you did in Notebook 1 - you may have to re-join the city column to do this - and then join these values to the validation fold\n",
    "\n",
    "This psuedocode may help you fill in the function:\n",
    "\n",
    "```python\n",
    "kfold = KFold() # fit sklearn k folds on X_train\n",
    "train_folds = []\n",
    "val_folds = []\n",
    "for training_index, val_index in kfold.split(X_train):\n",
    "    train_fold, val_fold = #.iloc loop variables on X_train\n",
    "\n",
    "    # recompute training city means like you did in notebook 1 \n",
    "    # merge to validation fold\n",
    "        \n",
    "    train_folds.append(train_fold)\n",
    "    val_folds.append(val_fold)\n",
    "\n",
    "    return train_folds, val_folds\n",
    "```\n",
    "\n",
    "\n",
    "**`hyperparameter_search()`**\n",
    "- Should take the validation and training splits from your previous function, along with your dictionary of hyperparameter values\n",
    "- For each set of hyperparameter values, fit your chosen model on each set of training folds, and take the average of your chosen scoring metric. [itertools.product()](https://docs.python.org/3/library/itertools.html) will be helpful for looping through all combinations of hyperparameter values\n",
    "- Your function should output the hyperparameter values corresponding the highest average score across all folds. Alternatively, it could also output a model object fit on the full training dataset with these parameters.\n",
    "\n",
    "\n",
    "This psuedocode may help you fill in the function:\n",
    "\n",
    "```python\n",
    "hyperparams = # Generate hyperparam options with itertools\n",
    "hyperparam-scores = []\n",
    "for hyperparam-combo in hyperparams:\n",
    "\n",
    "    scores = []\n",
    "\n",
    "    for folds in allmyfolds:\n",
    "        # score fold the fold with the model/ hyperparams\n",
    "        scores.append(score-fold)\n",
    "        \n",
    "    score = scores.mean()\n",
    "    hyperparam-scores.append(score)\n",
    "# After loop, find max of hyperparam-scores. Best params are at same index in `hyperparams` loop iteratble\n",
    "```\n",
    "\n",
    "Docstrings have been provided below to get you started. Once you're done developing your functions, you should move them to `functions_variables.py` to keep your notebook clean \n",
    "\n",
    "Bear in mind that these instructions are just one way to tackle this problem - the inputs and output formats don't need to be exactly as specified here."
   ]
  },
  {
   "cell_type": "code",
   "execution_count": 8,
   "metadata": {},
   "outputs": [],
   "source": [
    "# develop your custom functions here\n",
    "import numpy as np\n",
    "import itertools\n",
    "from sklearn.model_selection import KFold\n",
    "from sklearn.ensemble     import RandomForestRegressor\n",
    "from sklearn.metrics      import mean_squared_error\n",
    "\n",
    "def custom_cross_validation(training_data, n_splits=5):\n",
    "    kf = KFold(n_splits=n_splits, shuffle=True, random_state=42)\n",
    "    train_folds, val_folds = [], []\n",
    "    for train_idx, val_idx in kf.split(training_data):\n",
    "        train_folds.append(training_data.iloc[train_idx])\n",
    "        val_folds.append(  training_data.iloc[val_idx])\n",
    "    return train_folds, val_folds\n",
    "\n",
    "def hyperparameter_search(training_folds, validation_folds, param_grid):\n",
    "    # 1) Generate hyperparam combos\n",
    "    param_names   = list(param_grid.keys())\n",
    "    hyperparams   = list(itertools.product(*param_grid.values()))\n",
    "    \n",
    "    hyperparam_scores = []  # store avg RMSE for each combo\n",
    "\n",
    "    # 2) Loop through each hyperparam combination\n",
    "    for combo in hyperparams:\n",
    "        params = dict(zip(param_names, combo))\n",
    "        scores = []  # one RMSE per fold\n",
    "\n",
    "        # 3) Loop through each fold\n",
    "        for train_df, val_df in zip(training_folds, validation_folds):\n",
    "            # assume last column is target\n",
    "            target = train_df.columns[-1]\n",
    "            X_tr, y_tr = train_df.drop(target, axis=1), train_df[target]\n",
    "            X_va, y_va = val_df.drop(target, axis=1), val_df[target]\n",
    "\n",
    "            model = RandomForestRegressor(random_state=42, **params)\n",
    "            model.fit(X_tr, y_tr)\n",
    "            preds = model.predict(X_va)\n",
    "\n",
    "            rmse = np.sqrt(mean_squared_error(y_va, preds))\n",
    "            scores.append(rmse)\n",
    "\n",
    "        # average across folds\n",
    "        avg_score = np.mean(scores)\n",
    "        hyperparam_scores.append(avg_score)\n",
    "\n",
    "    # 4) Find the index of the best (lowest) RMSE\n",
    "    best_idx    = int(np.argmin(hyperparam_scores))\n",
    "    best_params = dict(zip(param_names, hyperparams[best_idx]))\n",
    "\n",
    "    return best_params\n",
    "\n"
   ]
  },
  {
   "cell_type": "markdown",
   "metadata": {},
   "source": [
    "## Hyperparam Tuning"
   ]
  },
  {
   "cell_type": "code",
   "execution_count": 13,
   "metadata": {},
   "outputs": [
    {
     "name": "stdout",
     "output_type": "stream",
     "text": [
      "Fitting 5 folds for each of 27 candidates, totalling 135 fits\n",
      "🔍 Best params: {'max_depth': 20, 'min_samples_leaf': 2, 'n_estimators': 100}\n",
      "🔍 Best CV RMSE: 410,120.31\n",
      "🏁 Final Test RMSE: 525,311.80\n",
      "✅ Model saved to models/best_random_forest.pkl\n"
     ]
    },
    {
     "name": "stderr",
     "output_type": "stream",
     "text": [
      "/opt/anaconda3/lib/python3.12/site-packages/sklearn/metrics/_regression.py:492: FutureWarning: 'squared' is deprecated in version 1.4 and will be removed in 1.6. To calculate the root mean squared error, use the function'root_mean_squared_error'.\n",
      "  warnings.warn(\n"
     ]
    }
   ],
   "source": [
    "# perform tuning and cross validation here \n",
    "# using GridsearchCV/ RandomsearchCV (MVP)\n",
    "# or your custom functions\n",
    "# 0) Bring your train/test back into scope\n",
    "\n",
    "from sklearn.model_selection import GridSearchCV\n",
    "from sklearn.ensemble      import RandomForestRegressor\n",
    "from sklearn.metrics       import mean_squared_error\n",
    "import joblib, os\n",
    "import pandas as pd\n",
    "from sklearn.impute import SimpleImputer\n",
    "\n",
    "# 0) Load processed splits\n",
    "X_train = pd.read_csv(\"data/processed/X_train_scaled.csv\")\n",
    "X_test  = pd.read_csv(\"data/processed/X_test_scaled.csv\")\n",
    "y_train = pd.read_csv(\"data/processed/y_train.csv\").squeeze()\n",
    "y_test  = pd.read_csv(\"data/processed/y_test.csv\").squeeze()\n",
    "\n",
    "# 1) Impute any remaining NaNs with the median (fit on train, transform both)\n",
    "imp = SimpleImputer(strategy=\"median\")\n",
    "X_train_imp = imp.fit_transform(X_train)\n",
    "X_test_imp  = imp.transform( X_test)\n",
    "\n",
    "# 2) Define the grid \n",
    "param_grid = {\n",
    "    \"n_estimators\":     [50, 100, 200],\n",
    "    \"max_depth\":        [None, 10, 20],\n",
    "    \"min_samples_leaf\": [1, 2, 4],\n",
    "}\n",
    "\n",
    "# 3) Set up GridSearchCV with built-in RMSE scoring \n",
    "grid = GridSearchCV(\n",
    "    estimator = RandomForestRegressor(random_state=42),\n",
    "    param_grid = param_grid,\n",
    "    scoring   = \"neg_root_mean_squared_error\",  # <- no more make_scorer hack\n",
    "    cv        = 5,\n",
    "    n_jobs    = -1,\n",
    "    verbose   = 1\n",
    ")\n",
    "\n",
    "# 4) Run the search \n",
    "grid.fit(X_train_imp, y_train)\n",
    "\n",
    "# best_params_ is the dict of hyperparams with the *lowest* CV‐RMSE\n",
    "best_params = grid.best_params_\n",
    "best_cv_rmse = -grid.best_score_\n",
    "\n",
    "print(\"🔍 Best params:\", best_params)\n",
    "print(f\"🔍 Best CV RMSE: {best_cv_rmse:,.2f}\")\n",
    "\n",
    "# 5) Evaluate on the hold‐out test set \n",
    "test_preds = grid.predict(X_test_imp)\n",
    "test_rmse  = mean_squared_error(y_test, test_preds, squared=False)\n",
    "print(f\"🏁 Final Test RMSE: {test_rmse:,.2f}\")\n",
    "\n",
    "# 6) Save the winning model \n",
    "os.makedirs(\"models\", exist_ok=True)\n",
    "joblib.dump(grid.best_estimator_, \"models/best_random_forest.pkl\")\n",
    "print(\"✅ Model saved to models/best_random_forest.pkl\")\n"
   ]
  },
  {
   "cell_type": "markdown",
   "metadata": {},
   "source": [
    "We want to make sure that we save our models.  In the old days, one just simply pickled (serialized) the model.  Now, however, certain model types have their own save format.  If the model is from sklearn, it can be pickled, if it's xgboost, for example, the newest format to save it in is JSON, but it can also be pickled.  It's a good idea to stay with the most current methods. \n",
    "- you may want to create a new `models/` subdirectory in your repo to stay organized"
   ]
  },
  {
   "cell_type": "code",
   "execution_count": 15,
   "metadata": {},
   "outputs": [
    {
     "name": "stdout",
     "output_type": "stream",
     "text": [
      "✅ Saved model → models/best_random_forest.pkl\n"
     ]
    }
   ],
   "source": [
    "# save your best model here\n",
    "\n",
    "import os, joblib\n",
    "\n",
    "# 1. Create a models folder if it doesn’t exist\n",
    "os.makedirs(\"models\", exist_ok=True)\n",
    "\n",
    "# 2. Save just the best estimator\n",
    "best_model = grid.best_estimator_\n",
    "joblib.dump(best_model, \"models/best_random_forest.pkl\")\n",
    "print(\"✅ Saved model → models/best_random_forest.pkl\")\n"
   ]
  },
  {
   "cell_type": "markdown",
   "metadata": {},
   "source": [
    "## Building a Pipeline (Stretch)\n",
    "\n",
    "> **This step doesn't need to be part of your Minimum Viable Product (MVP), but its highly recommended you complete it if you have time!**\n",
    "\n",
    "Once you've identified which model works the best, implement a prediction pipeline to make sure that you haven't leaked any data, and that the model could be easily deployed if desired.\n",
    "- Your pipeline should load the data, process it, load your saved tuned model, and output a set of predictions\n",
    "- Assume that the new data is in the same JSON format as your original data - you can use your original data to check that the pipeline works correctly\n",
    "- Beware that a pipeline can only handle functions with fit and transform methods.\n",
    "- Classes can be used to get around this, but now sklearn has a wrapper for user defined functions.\n",
    "- You can develop your functions or classes in the notebook here, but once they are working, you should import them from `functions_variables.py` "
   ]
  },
  {
   "cell_type": "code",
   "execution_count": null,
   "metadata": {},
   "outputs": [],
   "source": [
    "# Build pipeline here"
   ]
  },
  {
   "cell_type": "markdown",
   "metadata": {},
   "source": [
    "Pipelines come from sklearn.  When a pipeline is pickled, all of the information in the pipeline is stored with it.  For example, if we were deploying a model, and we had fit a scaler on the training data, we would want the same, already fitted scaling object to transform the new data with.  This is all stored when the pipeline is pickled.\n",
    "- save your final pipeline in your `models/` folder"
   ]
  },
  {
   "cell_type": "code",
   "execution_count": null,
   "metadata": {},
   "outputs": [],
   "source": [
    "# save your pipeline here"
   ]
  }
 ],
 "metadata": {
  "kernelspec": {
   "display_name": "base",
   "language": "python",
   "name": "python3"
  },
  "language_info": {
   "codemirror_mode": {
    "name": "ipython",
    "version": 3
   },
   "file_extension": ".py",
   "mimetype": "text/x-python",
   "name": "python",
   "nbconvert_exporter": "python",
   "pygments_lexer": "ipython3",
   "version": "3.12.2"
  }
 },
 "nbformat": 4,
 "nbformat_minor": 2
}
